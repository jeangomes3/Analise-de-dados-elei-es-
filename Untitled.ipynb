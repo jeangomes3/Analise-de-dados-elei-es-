{
 "cells": [
  {
   "cell_type": "markdown",
   "metadata": {},
   "source": [
    "# Analise de dados dos Candidatos do Estado de SP 2020"
   ]
  },
  {
   "cell_type": "code",
   "execution_count": 1,
   "metadata": {},
   "outputs": [],
   "source": [
    "import pandas as pd \n",
    "import matplotlib.pyplot as plt "
   ]
  },
  {
   "cell_type": "code",
   "execution_count": 31,
   "metadata": {
    "scrolled": true
   },
   "outputs": [],
   "source": [
    "vEleicoes = pd.read_csv(\"C:/Users/Kelliot/analise-dados/dados/consulta_cand_2020_SP.csv\", sep=\";\", encoding='Latin-1')"
   ]
  },
  {
   "cell_type": "code",
   "execution_count": 32,
   "metadata": {
    "scrolled": true
   },
   "outputs": [
    {
     "data": {
      "text/html": [
       "<div>\n",
       "<style scoped>\n",
       "    .dataframe tbody tr th:only-of-type {\n",
       "        vertical-align: middle;\n",
       "    }\n",
       "\n",
       "    .dataframe tbody tr th {\n",
       "        vertical-align: top;\n",
       "    }\n",
       "\n",
       "    .dataframe thead th {\n",
       "        text-align: right;\n",
       "    }\n",
       "</style>\n",
       "<table border=\"1\" class=\"dataframe\">\n",
       "  <thead>\n",
       "    <tr style=\"text-align: right;\">\n",
       "      <th></th>\n",
       "      <th>DT_GERACAO</th>\n",
       "      <th>HH_GERACAO</th>\n",
       "      <th>ANO_ELEICAO</th>\n",
       "      <th>CD_TIPO_ELEICAO</th>\n",
       "      <th>NM_TIPO_ELEICAO</th>\n",
       "      <th>NR_TURNO</th>\n",
       "      <th>CD_ELEICAO</th>\n",
       "      <th>DS_ELEICAO</th>\n",
       "      <th>DT_ELEICAO</th>\n",
       "      <th>TP_ABRANGENCIA</th>\n",
       "      <th>...</th>\n",
       "      <th>DS_SIT_TOT_TURNO</th>\n",
       "      <th>ST_REELEICAO</th>\n",
       "      <th>ST_DECLARAR_BENS</th>\n",
       "      <th>NR_PROTOCOLO_CANDIDATURA</th>\n",
       "      <th>NR_PROCESSO</th>\n",
       "      <th>CD_SITUACAO_CANDIDATO_PLEITO</th>\n",
       "      <th>DS_SITUACAO_CANDIDATO_PLEITO</th>\n",
       "      <th>CD_SITUACAO_CANDIDATO_URNA</th>\n",
       "      <th>DS_SITUACAO_CANDIDATO_URNA</th>\n",
       "      <th>ST_CANDIDATO_INSERIDO_URNA</th>\n",
       "    </tr>\n",
       "  </thead>\n",
       "  <tbody>\n",
       "    <tr>\n",
       "      <th>0</th>\n",
       "      <td>08/11/2020</td>\n",
       "      <td>21:08:20</td>\n",
       "      <td>2020</td>\n",
       "      <td>2</td>\n",
       "      <td>ELEIÇÃO ORDINÁRIA</td>\n",
       "      <td>1</td>\n",
       "      <td>426</td>\n",
       "      <td>Eleições Municipais 2020</td>\n",
       "      <td>15/11/2020</td>\n",
       "      <td>MUNICIPAL</td>\n",
       "      <td>...</td>\n",
       "      <td>#NULO#</td>\n",
       "      <td>N</td>\n",
       "      <td>N</td>\n",
       "      <td>-1</td>\n",
       "      <td>6007915620206260075</td>\n",
       "      <td>-1</td>\n",
       "      <td>#NULO#</td>\n",
       "      <td>-1</td>\n",
       "      <td>#NULO#</td>\n",
       "      <td>SIM</td>\n",
       "    </tr>\n",
       "    <tr>\n",
       "      <th>1</th>\n",
       "      <td>08/11/2020</td>\n",
       "      <td>21:08:20</td>\n",
       "      <td>2020</td>\n",
       "      <td>2</td>\n",
       "      <td>ELEIÇÃO ORDINÁRIA</td>\n",
       "      <td>1</td>\n",
       "      <td>426</td>\n",
       "      <td>Eleições Municipais 2020</td>\n",
       "      <td>15/11/2020</td>\n",
       "      <td>MUNICIPAL</td>\n",
       "      <td>...</td>\n",
       "      <td>#NULO#</td>\n",
       "      <td>N</td>\n",
       "      <td>S</td>\n",
       "      <td>-1</td>\n",
       "      <td>6004594520206260219</td>\n",
       "      <td>-1</td>\n",
       "      <td>#NULO#</td>\n",
       "      <td>-1</td>\n",
       "      <td>#NULO#</td>\n",
       "      <td>SIM</td>\n",
       "    </tr>\n",
       "    <tr>\n",
       "      <th>2</th>\n",
       "      <td>08/11/2020</td>\n",
       "      <td>21:08:20</td>\n",
       "      <td>2020</td>\n",
       "      <td>2</td>\n",
       "      <td>ELEIÇÃO ORDINÁRIA</td>\n",
       "      <td>1</td>\n",
       "      <td>426</td>\n",
       "      <td>Eleições Municipais 2020</td>\n",
       "      <td>15/11/2020</td>\n",
       "      <td>MUNICIPAL</td>\n",
       "      <td>...</td>\n",
       "      <td>#NULO#</td>\n",
       "      <td>N</td>\n",
       "      <td>S</td>\n",
       "      <td>-1</td>\n",
       "      <td>6003477520206260187</td>\n",
       "      <td>-1</td>\n",
       "      <td>#NULO#</td>\n",
       "      <td>-1</td>\n",
       "      <td>#NULO#</td>\n",
       "      <td>SIM</td>\n",
       "    </tr>\n",
       "    <tr>\n",
       "      <th>3</th>\n",
       "      <td>08/11/2020</td>\n",
       "      <td>21:08:20</td>\n",
       "      <td>2020</td>\n",
       "      <td>2</td>\n",
       "      <td>ELEIÇÃO ORDINÁRIA</td>\n",
       "      <td>1</td>\n",
       "      <td>426</td>\n",
       "      <td>Eleições Municipais 2020</td>\n",
       "      <td>15/11/2020</td>\n",
       "      <td>MUNICIPAL</td>\n",
       "      <td>...</td>\n",
       "      <td>#NULO#</td>\n",
       "      <td>N</td>\n",
       "      <td>N</td>\n",
       "      <td>-1</td>\n",
       "      <td>6005603820206260072</td>\n",
       "      <td>-1</td>\n",
       "      <td>#NULO#</td>\n",
       "      <td>-1</td>\n",
       "      <td>#NULO#</td>\n",
       "      <td>SIM</td>\n",
       "    </tr>\n",
       "    <tr>\n",
       "      <th>4</th>\n",
       "      <td>08/11/2020</td>\n",
       "      <td>21:08:20</td>\n",
       "      <td>2020</td>\n",
       "      <td>2</td>\n",
       "      <td>ELEIÇÃO ORDINÁRIA</td>\n",
       "      <td>1</td>\n",
       "      <td>426</td>\n",
       "      <td>Eleições Municipais 2020</td>\n",
       "      <td>15/11/2020</td>\n",
       "      <td>MUNICIPAL</td>\n",
       "      <td>...</td>\n",
       "      <td>#NULO#</td>\n",
       "      <td>N</td>\n",
       "      <td>S</td>\n",
       "      <td>-1</td>\n",
       "      <td>6002489720206260319</td>\n",
       "      <td>-1</td>\n",
       "      <td>#NULO#</td>\n",
       "      <td>-1</td>\n",
       "      <td>#NULO#</td>\n",
       "      <td>SIM</td>\n",
       "    </tr>\n",
       "  </tbody>\n",
       "</table>\n",
       "<p>5 rows × 63 columns</p>\n",
       "</div>"
      ],
      "text/plain": [
       "   DT_GERACAO HH_GERACAO  ANO_ELEICAO  CD_TIPO_ELEICAO    NM_TIPO_ELEICAO  \\\n",
       "0  08/11/2020   21:08:20         2020                2  ELEIÇÃO ORDINÁRIA   \n",
       "1  08/11/2020   21:08:20         2020                2  ELEIÇÃO ORDINÁRIA   \n",
       "2  08/11/2020   21:08:20         2020                2  ELEIÇÃO ORDINÁRIA   \n",
       "3  08/11/2020   21:08:20         2020                2  ELEIÇÃO ORDINÁRIA   \n",
       "4  08/11/2020   21:08:20         2020                2  ELEIÇÃO ORDINÁRIA   \n",
       "\n",
       "   NR_TURNO  CD_ELEICAO                DS_ELEICAO  DT_ELEICAO TP_ABRANGENCIA  \\\n",
       "0         1         426  Eleições Municipais 2020  15/11/2020      MUNICIPAL   \n",
       "1         1         426  Eleições Municipais 2020  15/11/2020      MUNICIPAL   \n",
       "2         1         426  Eleições Municipais 2020  15/11/2020      MUNICIPAL   \n",
       "3         1         426  Eleições Municipais 2020  15/11/2020      MUNICIPAL   \n",
       "4         1         426  Eleições Municipais 2020  15/11/2020      MUNICIPAL   \n",
       "\n",
       "   ... DS_SIT_TOT_TURNO  ST_REELEICAO ST_DECLARAR_BENS  \\\n",
       "0  ...           #NULO#             N                N   \n",
       "1  ...           #NULO#             N                S   \n",
       "2  ...           #NULO#             N                S   \n",
       "3  ...           #NULO#             N                N   \n",
       "4  ...           #NULO#             N                S   \n",
       "\n",
       "   NR_PROTOCOLO_CANDIDATURA          NR_PROCESSO  \\\n",
       "0                        -1  6007915620206260075   \n",
       "1                        -1  6004594520206260219   \n",
       "2                        -1  6003477520206260187   \n",
       "3                        -1  6005603820206260072   \n",
       "4                        -1  6002489720206260319   \n",
       "\n",
       "   CD_SITUACAO_CANDIDATO_PLEITO  DS_SITUACAO_CANDIDATO_PLEITO  \\\n",
       "0                            -1                        #NULO#   \n",
       "1                            -1                        #NULO#   \n",
       "2                            -1                        #NULO#   \n",
       "3                            -1                        #NULO#   \n",
       "4                            -1                        #NULO#   \n",
       "\n",
       "  CD_SITUACAO_CANDIDATO_URNA DS_SITUACAO_CANDIDATO_URNA  \\\n",
       "0                         -1                     #NULO#   \n",
       "1                         -1                     #NULO#   \n",
       "2                         -1                     #NULO#   \n",
       "3                         -1                     #NULO#   \n",
       "4                         -1                     #NULO#   \n",
       "\n",
       "  ST_CANDIDATO_INSERIDO_URNA  \n",
       "0                        SIM  \n",
       "1                        SIM  \n",
       "2                        SIM  \n",
       "3                        SIM  \n",
       "4                        SIM  \n",
       "\n",
       "[5 rows x 63 columns]"
      ]
     },
     "execution_count": 32,
     "metadata": {},
     "output_type": "execute_result"
    }
   ],
   "source": [
    "vEleicoes.head()"
   ]
  },
  {
   "cell_type": "code",
   "execution_count": 33,
   "metadata": {},
   "outputs": [
    {
     "data": {
      "text/html": [
       "<div>\n",
       "<style scoped>\n",
       "    .dataframe tbody tr th:only-of-type {\n",
       "        vertical-align: middle;\n",
       "    }\n",
       "\n",
       "    .dataframe tbody tr th {\n",
       "        vertical-align: top;\n",
       "    }\n",
       "\n",
       "    .dataframe thead th {\n",
       "        text-align: right;\n",
       "    }\n",
       "</style>\n",
       "<table border=\"1\" class=\"dataframe\">\n",
       "  <thead>\n",
       "    <tr style=\"text-align: right;\">\n",
       "      <th></th>\n",
       "      <th>DT_GERACAO</th>\n",
       "      <th>HH_GERACAO</th>\n",
       "      <th>ANO_ELEICAO</th>\n",
       "      <th>CD_TIPO_ELEICAO</th>\n",
       "      <th>NM_TIPO_ELEICAO</th>\n",
       "      <th>NR_TURNO</th>\n",
       "      <th>CD_ELEICAO</th>\n",
       "      <th>DS_ELEICAO</th>\n",
       "      <th>DT_ELEICAO</th>\n",
       "      <th>TP_ABRANGENCIA</th>\n",
       "      <th>...</th>\n",
       "      <th>DS_SIT_TOT_TURNO</th>\n",
       "      <th>ST_REELEICAO</th>\n",
       "      <th>ST_DECLARAR_BENS</th>\n",
       "      <th>NR_PROTOCOLO_CANDIDATURA</th>\n",
       "      <th>NR_PROCESSO</th>\n",
       "      <th>CD_SITUACAO_CANDIDATO_PLEITO</th>\n",
       "      <th>DS_SITUACAO_CANDIDATO_PLEITO</th>\n",
       "      <th>CD_SITUACAO_CANDIDATO_URNA</th>\n",
       "      <th>DS_SITUACAO_CANDIDATO_URNA</th>\n",
       "      <th>ST_CANDIDATO_INSERIDO_URNA</th>\n",
       "    </tr>\n",
       "  </thead>\n",
       "  <tbody>\n",
       "    <tr>\n",
       "      <th>0</th>\n",
       "      <td>08/11/2020</td>\n",
       "      <td>21:08:20</td>\n",
       "      <td>2020</td>\n",
       "      <td>2</td>\n",
       "      <td>ELEIÇÃO ORDINÁRIA</td>\n",
       "      <td>1</td>\n",
       "      <td>426</td>\n",
       "      <td>Eleições Municipais 2020</td>\n",
       "      <td>15/11/2020</td>\n",
       "      <td>MUNICIPAL</td>\n",
       "      <td>...</td>\n",
       "      <td>#NULO#</td>\n",
       "      <td>N</td>\n",
       "      <td>N</td>\n",
       "      <td>-1</td>\n",
       "      <td>6007915620206260075</td>\n",
       "      <td>-1</td>\n",
       "      <td>#NULO#</td>\n",
       "      <td>-1</td>\n",
       "      <td>#NULO#</td>\n",
       "      <td>SIM</td>\n",
       "    </tr>\n",
       "    <tr>\n",
       "      <th>1</th>\n",
       "      <td>08/11/2020</td>\n",
       "      <td>21:08:20</td>\n",
       "      <td>2020</td>\n",
       "      <td>2</td>\n",
       "      <td>ELEIÇÃO ORDINÁRIA</td>\n",
       "      <td>1</td>\n",
       "      <td>426</td>\n",
       "      <td>Eleições Municipais 2020</td>\n",
       "      <td>15/11/2020</td>\n",
       "      <td>MUNICIPAL</td>\n",
       "      <td>...</td>\n",
       "      <td>#NULO#</td>\n",
       "      <td>N</td>\n",
       "      <td>S</td>\n",
       "      <td>-1</td>\n",
       "      <td>6004594520206260219</td>\n",
       "      <td>-1</td>\n",
       "      <td>#NULO#</td>\n",
       "      <td>-1</td>\n",
       "      <td>#NULO#</td>\n",
       "      <td>SIM</td>\n",
       "    </tr>\n",
       "    <tr>\n",
       "      <th>2</th>\n",
       "      <td>08/11/2020</td>\n",
       "      <td>21:08:20</td>\n",
       "      <td>2020</td>\n",
       "      <td>2</td>\n",
       "      <td>ELEIÇÃO ORDINÁRIA</td>\n",
       "      <td>1</td>\n",
       "      <td>426</td>\n",
       "      <td>Eleições Municipais 2020</td>\n",
       "      <td>15/11/2020</td>\n",
       "      <td>MUNICIPAL</td>\n",
       "      <td>...</td>\n",
       "      <td>#NULO#</td>\n",
       "      <td>N</td>\n",
       "      <td>S</td>\n",
       "      <td>-1</td>\n",
       "      <td>6003477520206260187</td>\n",
       "      <td>-1</td>\n",
       "      <td>#NULO#</td>\n",
       "      <td>-1</td>\n",
       "      <td>#NULO#</td>\n",
       "      <td>SIM</td>\n",
       "    </tr>\n",
       "    <tr>\n",
       "      <th>3</th>\n",
       "      <td>08/11/2020</td>\n",
       "      <td>21:08:20</td>\n",
       "      <td>2020</td>\n",
       "      <td>2</td>\n",
       "      <td>ELEIÇÃO ORDINÁRIA</td>\n",
       "      <td>1</td>\n",
       "      <td>426</td>\n",
       "      <td>Eleições Municipais 2020</td>\n",
       "      <td>15/11/2020</td>\n",
       "      <td>MUNICIPAL</td>\n",
       "      <td>...</td>\n",
       "      <td>#NULO#</td>\n",
       "      <td>N</td>\n",
       "      <td>N</td>\n",
       "      <td>-1</td>\n",
       "      <td>6005603820206260072</td>\n",
       "      <td>-1</td>\n",
       "      <td>#NULO#</td>\n",
       "      <td>-1</td>\n",
       "      <td>#NULO#</td>\n",
       "      <td>SIM</td>\n",
       "    </tr>\n",
       "    <tr>\n",
       "      <th>4</th>\n",
       "      <td>08/11/2020</td>\n",
       "      <td>21:08:20</td>\n",
       "      <td>2020</td>\n",
       "      <td>2</td>\n",
       "      <td>ELEIÇÃO ORDINÁRIA</td>\n",
       "      <td>1</td>\n",
       "      <td>426</td>\n",
       "      <td>Eleições Municipais 2020</td>\n",
       "      <td>15/11/2020</td>\n",
       "      <td>MUNICIPAL</td>\n",
       "      <td>...</td>\n",
       "      <td>#NULO#</td>\n",
       "      <td>N</td>\n",
       "      <td>S</td>\n",
       "      <td>-1</td>\n",
       "      <td>6002489720206260319</td>\n",
       "      <td>-1</td>\n",
       "      <td>#NULO#</td>\n",
       "      <td>-1</td>\n",
       "      <td>#NULO#</td>\n",
       "      <td>SIM</td>\n",
       "    </tr>\n",
       "    <tr>\n",
       "      <th>...</th>\n",
       "      <td>...</td>\n",
       "      <td>...</td>\n",
       "      <td>...</td>\n",
       "      <td>...</td>\n",
       "      <td>...</td>\n",
       "      <td>...</td>\n",
       "      <td>...</td>\n",
       "      <td>...</td>\n",
       "      <td>...</td>\n",
       "      <td>...</td>\n",
       "      <td>...</td>\n",
       "      <td>...</td>\n",
       "      <td>...</td>\n",
       "      <td>...</td>\n",
       "      <td>...</td>\n",
       "      <td>...</td>\n",
       "      <td>...</td>\n",
       "      <td>...</td>\n",
       "      <td>...</td>\n",
       "      <td>...</td>\n",
       "      <td>...</td>\n",
       "    </tr>\n",
       "    <tr>\n",
       "      <th>93692</th>\n",
       "      <td>08/11/2020</td>\n",
       "      <td>21:08:20</td>\n",
       "      <td>2020</td>\n",
       "      <td>2</td>\n",
       "      <td>ELEIÇÃO ORDINÁRIA</td>\n",
       "      <td>1</td>\n",
       "      <td>426</td>\n",
       "      <td>Eleições Municipais 2020</td>\n",
       "      <td>15/11/2020</td>\n",
       "      <td>MUNICIPAL</td>\n",
       "      <td>...</td>\n",
       "      <td>#NULO#</td>\n",
       "      <td>N</td>\n",
       "      <td>S</td>\n",
       "      <td>-1</td>\n",
       "      <td>6004993920206260118</td>\n",
       "      <td>-1</td>\n",
       "      <td>#NULO#</td>\n",
       "      <td>-1</td>\n",
       "      <td>#NULO#</td>\n",
       "      <td>SIM</td>\n",
       "    </tr>\n",
       "    <tr>\n",
       "      <th>93693</th>\n",
       "      <td>08/11/2020</td>\n",
       "      <td>21:08:20</td>\n",
       "      <td>2020</td>\n",
       "      <td>2</td>\n",
       "      <td>ELEIÇÃO ORDINÁRIA</td>\n",
       "      <td>1</td>\n",
       "      <td>426</td>\n",
       "      <td>Eleições Municipais 2020</td>\n",
       "      <td>15/11/2020</td>\n",
       "      <td>MUNICIPAL</td>\n",
       "      <td>...</td>\n",
       "      <td>#NULO#</td>\n",
       "      <td>N</td>\n",
       "      <td>S</td>\n",
       "      <td>-1</td>\n",
       "      <td>6005939720206260243</td>\n",
       "      <td>-1</td>\n",
       "      <td>#NULO#</td>\n",
       "      <td>-1</td>\n",
       "      <td>#NULO#</td>\n",
       "      <td>SIM</td>\n",
       "    </tr>\n",
       "    <tr>\n",
       "      <th>93694</th>\n",
       "      <td>08/11/2020</td>\n",
       "      <td>21:08:20</td>\n",
       "      <td>2020</td>\n",
       "      <td>2</td>\n",
       "      <td>ELEIÇÃO ORDINÁRIA</td>\n",
       "      <td>1</td>\n",
       "      <td>426</td>\n",
       "      <td>Eleições Municipais 2020</td>\n",
       "      <td>15/11/2020</td>\n",
       "      <td>MUNICIPAL</td>\n",
       "      <td>...</td>\n",
       "      <td>#NULO#</td>\n",
       "      <td>N</td>\n",
       "      <td>S</td>\n",
       "      <td>-1</td>\n",
       "      <td>6002238820206260156</td>\n",
       "      <td>-1</td>\n",
       "      <td>#NULO#</td>\n",
       "      <td>-1</td>\n",
       "      <td>#NULO#</td>\n",
       "      <td>SIM</td>\n",
       "    </tr>\n",
       "    <tr>\n",
       "      <th>93695</th>\n",
       "      <td>08/11/2020</td>\n",
       "      <td>21:08:20</td>\n",
       "      <td>2020</td>\n",
       "      <td>2</td>\n",
       "      <td>ELEIÇÃO ORDINÁRIA</td>\n",
       "      <td>1</td>\n",
       "      <td>426</td>\n",
       "      <td>Eleições Municipais 2020</td>\n",
       "      <td>15/11/2020</td>\n",
       "      <td>MUNICIPAL</td>\n",
       "      <td>...</td>\n",
       "      <td>#NULO#</td>\n",
       "      <td>N</td>\n",
       "      <td>S</td>\n",
       "      <td>-1</td>\n",
       "      <td>6002944320206260107</td>\n",
       "      <td>-1</td>\n",
       "      <td>#NULO#</td>\n",
       "      <td>-1</td>\n",
       "      <td>#NULO#</td>\n",
       "      <td>SIM</td>\n",
       "    </tr>\n",
       "    <tr>\n",
       "      <th>93696</th>\n",
       "      <td>08/11/2020</td>\n",
       "      <td>21:08:20</td>\n",
       "      <td>2020</td>\n",
       "      <td>2</td>\n",
       "      <td>ELEIÇÃO ORDINÁRIA</td>\n",
       "      <td>1</td>\n",
       "      <td>426</td>\n",
       "      <td>Eleições Municipais 2020</td>\n",
       "      <td>15/11/2020</td>\n",
       "      <td>MUNICIPAL</td>\n",
       "      <td>...</td>\n",
       "      <td>#NULO#</td>\n",
       "      <td>N</td>\n",
       "      <td>S</td>\n",
       "      <td>-1</td>\n",
       "      <td>6003415020206260290</td>\n",
       "      <td>-1</td>\n",
       "      <td>#NULO#</td>\n",
       "      <td>-1</td>\n",
       "      <td>#NULO#</td>\n",
       "      <td>SIM</td>\n",
       "    </tr>\n",
       "  </tbody>\n",
       "</table>\n",
       "<p>93697 rows × 63 columns</p>\n",
       "</div>"
      ],
      "text/plain": [
       "       DT_GERACAO HH_GERACAO  ANO_ELEICAO  CD_TIPO_ELEICAO    NM_TIPO_ELEICAO  \\\n",
       "0      08/11/2020   21:08:20         2020                2  ELEIÇÃO ORDINÁRIA   \n",
       "1      08/11/2020   21:08:20         2020                2  ELEIÇÃO ORDINÁRIA   \n",
       "2      08/11/2020   21:08:20         2020                2  ELEIÇÃO ORDINÁRIA   \n",
       "3      08/11/2020   21:08:20         2020                2  ELEIÇÃO ORDINÁRIA   \n",
       "4      08/11/2020   21:08:20         2020                2  ELEIÇÃO ORDINÁRIA   \n",
       "...           ...        ...          ...              ...                ...   \n",
       "93692  08/11/2020   21:08:20         2020                2  ELEIÇÃO ORDINÁRIA   \n",
       "93693  08/11/2020   21:08:20         2020                2  ELEIÇÃO ORDINÁRIA   \n",
       "93694  08/11/2020   21:08:20         2020                2  ELEIÇÃO ORDINÁRIA   \n",
       "93695  08/11/2020   21:08:20         2020                2  ELEIÇÃO ORDINÁRIA   \n",
       "93696  08/11/2020   21:08:20         2020                2  ELEIÇÃO ORDINÁRIA   \n",
       "\n",
       "       NR_TURNO  CD_ELEICAO                DS_ELEICAO  DT_ELEICAO  \\\n",
       "0             1         426  Eleições Municipais 2020  15/11/2020   \n",
       "1             1         426  Eleições Municipais 2020  15/11/2020   \n",
       "2             1         426  Eleições Municipais 2020  15/11/2020   \n",
       "3             1         426  Eleições Municipais 2020  15/11/2020   \n",
       "4             1         426  Eleições Municipais 2020  15/11/2020   \n",
       "...         ...         ...                       ...         ...   \n",
       "93692         1         426  Eleições Municipais 2020  15/11/2020   \n",
       "93693         1         426  Eleições Municipais 2020  15/11/2020   \n",
       "93694         1         426  Eleições Municipais 2020  15/11/2020   \n",
       "93695         1         426  Eleições Municipais 2020  15/11/2020   \n",
       "93696         1         426  Eleições Municipais 2020  15/11/2020   \n",
       "\n",
       "      TP_ABRANGENCIA  ... DS_SIT_TOT_TURNO  ST_REELEICAO ST_DECLARAR_BENS  \\\n",
       "0          MUNICIPAL  ...           #NULO#             N                N   \n",
       "1          MUNICIPAL  ...           #NULO#             N                S   \n",
       "2          MUNICIPAL  ...           #NULO#             N                S   \n",
       "3          MUNICIPAL  ...           #NULO#             N                N   \n",
       "4          MUNICIPAL  ...           #NULO#             N                S   \n",
       "...              ...  ...              ...           ...              ...   \n",
       "93692      MUNICIPAL  ...           #NULO#             N                S   \n",
       "93693      MUNICIPAL  ...           #NULO#             N                S   \n",
       "93694      MUNICIPAL  ...           #NULO#             N                S   \n",
       "93695      MUNICIPAL  ...           #NULO#             N                S   \n",
       "93696      MUNICIPAL  ...           #NULO#             N                S   \n",
       "\n",
       "       NR_PROTOCOLO_CANDIDATURA          NR_PROCESSO  \\\n",
       "0                            -1  6007915620206260075   \n",
       "1                            -1  6004594520206260219   \n",
       "2                            -1  6003477520206260187   \n",
       "3                            -1  6005603820206260072   \n",
       "4                            -1  6002489720206260319   \n",
       "...                         ...                  ...   \n",
       "93692                        -1  6004993920206260118   \n",
       "93693                        -1  6005939720206260243   \n",
       "93694                        -1  6002238820206260156   \n",
       "93695                        -1  6002944320206260107   \n",
       "93696                        -1  6003415020206260290   \n",
       "\n",
       "       CD_SITUACAO_CANDIDATO_PLEITO  DS_SITUACAO_CANDIDATO_PLEITO  \\\n",
       "0                                -1                        #NULO#   \n",
       "1                                -1                        #NULO#   \n",
       "2                                -1                        #NULO#   \n",
       "3                                -1                        #NULO#   \n",
       "4                                -1                        #NULO#   \n",
       "...                             ...                           ...   \n",
       "93692                            -1                        #NULO#   \n",
       "93693                            -1                        #NULO#   \n",
       "93694                            -1                        #NULO#   \n",
       "93695                            -1                        #NULO#   \n",
       "93696                            -1                        #NULO#   \n",
       "\n",
       "      CD_SITUACAO_CANDIDATO_URNA DS_SITUACAO_CANDIDATO_URNA  \\\n",
       "0                             -1                     #NULO#   \n",
       "1                             -1                     #NULO#   \n",
       "2                             -1                     #NULO#   \n",
       "3                             -1                     #NULO#   \n",
       "4                             -1                     #NULO#   \n",
       "...                          ...                        ...   \n",
       "93692                         -1                     #NULO#   \n",
       "93693                         -1                     #NULO#   \n",
       "93694                         -1                     #NULO#   \n",
       "93695                         -1                     #NULO#   \n",
       "93696                         -1                     #NULO#   \n",
       "\n",
       "      ST_CANDIDATO_INSERIDO_URNA  \n",
       "0                            SIM  \n",
       "1                            SIM  \n",
       "2                            SIM  \n",
       "3                            SIM  \n",
       "4                            SIM  \n",
       "...                          ...  \n",
       "93692                        SIM  \n",
       "93693                        SIM  \n",
       "93694                        SIM  \n",
       "93695                        SIM  \n",
       "93696                        SIM  \n",
       "\n",
       "[93697 rows x 63 columns]"
      ]
     },
     "execution_count": 33,
     "metadata": {},
     "output_type": "execute_result"
    }
   ],
   "source": [
    "vEleicoes"
   ]
  },
  {
   "cell_type": "code",
   "execution_count": 34,
   "metadata": {},
   "outputs": [
    {
     "data": {
      "text/plain": [
       "array(['DT_GERACAO', 'HH_GERACAO', 'ANO_ELEICAO', 'CD_TIPO_ELEICAO',\n",
       "       'NM_TIPO_ELEICAO', 'NR_TURNO', 'CD_ELEICAO', 'DS_ELEICAO',\n",
       "       'DT_ELEICAO', 'TP_ABRANGENCIA', 'SG_UF', 'SG_UE', 'NM_UE',\n",
       "       'CD_CARGO', 'DS_CARGO', 'SQ_CANDIDATO', 'NR_CANDIDATO',\n",
       "       'NM_CANDIDATO', 'NM_URNA_CANDIDATO', 'NM_SOCIAL_CANDIDATO',\n",
       "       'NR_CPF_CANDIDATO', 'NM_EMAIL', 'CD_SITUACAO_CANDIDATURA',\n",
       "       'DS_SITUACAO_CANDIDATURA', 'CD_DETALHE_SITUACAO_CAND',\n",
       "       'DS_DETALHE_SITUACAO_CAND', 'TP_AGREMIACAO', 'NR_PARTIDO',\n",
       "       'SG_PARTIDO', 'NM_PARTIDO', 'SQ_COLIGACAO', 'NM_COLIGACAO',\n",
       "       'DS_COMPOSICAO_COLIGACAO', 'CD_NACIONALIDADE', 'DS_NACIONALIDADE',\n",
       "       'SG_UF_NASCIMENTO', 'CD_MUNICIPIO_NASCIMENTO',\n",
       "       'NM_MUNICIPIO_NASCIMENTO', 'DT_NASCIMENTO', 'NR_IDADE_DATA_POSSE',\n",
       "       'NR_TITULO_ELEITORAL_CANDIDATO', 'CD_GENERO', 'DS_GENERO',\n",
       "       'CD_GRAU_INSTRUCAO', 'DS_GRAU_INSTRUCAO', 'CD_ESTADO_CIVIL',\n",
       "       'DS_ESTADO_CIVIL', 'CD_COR_RACA', 'DS_COR_RACA', 'CD_OCUPACAO',\n",
       "       'DS_OCUPACAO', 'VR_DESPESA_MAX_CAMPANHA', 'CD_SIT_TOT_TURNO',\n",
       "       'DS_SIT_TOT_TURNO', 'ST_REELEICAO', 'ST_DECLARAR_BENS',\n",
       "       'NR_PROTOCOLO_CANDIDATURA', 'NR_PROCESSO',\n",
       "       'CD_SITUACAO_CANDIDATO_PLEITO', 'DS_SITUACAO_CANDIDATO_PLEITO',\n",
       "       'CD_SITUACAO_CANDIDATO_URNA', 'DS_SITUACAO_CANDIDATO_URNA',\n",
       "       'ST_CANDIDATO_INSERIDO_URNA'], dtype=object)"
      ]
     },
     "execution_count": 34,
     "metadata": {},
     "output_type": "execute_result"
    }
   ],
   "source": [
    "vEleicoes.columns.values"
   ]
  },
  {
   "cell_type": "code",
   "execution_count": 6,
   "metadata": {},
   "outputs": [
    {
     "data": {
      "text/plain": [
       "array(['DT_GERACAO', 'HH_GERACAO', 'ANO_ELEICAO', 'CD_TIPO_ELEICAO',\n",
       "       'NM_TIPO_ELEICAO', 'CD_ELEICAO', 'DS_ELEICAO', 'DT_ELEICAO',\n",
       "       'SG_UF', 'SG_UE', 'NM_UE', 'SQ_CANDIDATO', 'NR_ORDEM_CANDIDATO',\n",
       "       'CD_TIPO_BEM_CANDIDATO', 'DS_TIPO_BEM_CANDIDATO',\n",
       "       'DS_BEM_CANDIDATO', 'VR_BEM_CANDIDATO', 'DT_ULTIMA_ATUALIZACAO',\n",
       "       'HH_ULTIMA_ATUALIZACAO'], dtype=object)"
      ]
     },
     "execution_count": 6,
     "metadata": {},
     "output_type": "execute_result"
    }
   ],
   "source": [
    "vEleicoes.columns.values"
   ]
  },
  {
   "cell_type": "code",
   "execution_count": 35,
   "metadata": {},
   "outputs": [],
   "source": [
    "ColunasSelecionada= ['NM_UE','NM_URNA_CANDIDATO',\n",
    "       'SG_PARTIDO', 'DS_GENERO','DS_GRAU_INSTRUCAO']"
   ]
  },
  {
   "cell_type": "code",
   "execution_count": 36,
   "metadata": {},
   "outputs": [],
   "source": [
    "vEleicoesSelecionado = vEleicoes.filter(items=ColunasSelecionada)"
   ]
  },
  {
   "cell_type": "code",
   "execution_count": 37,
   "metadata": {},
   "outputs": [
    {
     "data": {
      "text/html": [
       "<div>\n",
       "<style scoped>\n",
       "    .dataframe tbody tr th:only-of-type {\n",
       "        vertical-align: middle;\n",
       "    }\n",
       "\n",
       "    .dataframe tbody tr th {\n",
       "        vertical-align: top;\n",
       "    }\n",
       "\n",
       "    .dataframe thead th {\n",
       "        text-align: right;\n",
       "    }\n",
       "</style>\n",
       "<table border=\"1\" class=\"dataframe\">\n",
       "  <thead>\n",
       "    <tr style=\"text-align: right;\">\n",
       "      <th></th>\n",
       "      <th>NM_UE</th>\n",
       "      <th>NM_URNA_CANDIDATO</th>\n",
       "      <th>SG_PARTIDO</th>\n",
       "      <th>DS_GENERO</th>\n",
       "      <th>DS_GRAU_INSTRUCAO</th>\n",
       "    </tr>\n",
       "  </thead>\n",
       "  <tbody>\n",
       "    <tr>\n",
       "      <th>0</th>\n",
       "      <td>ARTUR NOGUEIRA</td>\n",
       "      <td>OSMAR BAIANO</td>\n",
       "      <td>PTB</td>\n",
       "      <td>MASCULINO</td>\n",
       "      <td>ENSINO FUNDAMENTAL INCOMPLETO</td>\n",
       "    </tr>\n",
       "    <tr>\n",
       "      <th>1</th>\n",
       "      <td>POÁ</td>\n",
       "      <td>BIRO</td>\n",
       "      <td>SOLIDARIEDADE</td>\n",
       "      <td>MASCULINO</td>\n",
       "      <td>SUPERIOR COMPLETO</td>\n",
       "    </tr>\n",
       "    <tr>\n",
       "      <th>2</th>\n",
       "      <td>SANTA FÉ DO SUL</td>\n",
       "      <td>CRIS LENHAVERDE</td>\n",
       "      <td>PSL</td>\n",
       "      <td>FEMININO</td>\n",
       "      <td>ENSINO MÉDIO COMPLETO</td>\n",
       "    </tr>\n",
       "    <tr>\n",
       "      <th>3</th>\n",
       "      <td>BÁLSAMO</td>\n",
       "      <td>CECILIA TIENE</td>\n",
       "      <td>MDB</td>\n",
       "      <td>FEMININO</td>\n",
       "      <td>ENSINO FUNDAMENTAL INCOMPLETO</td>\n",
       "    </tr>\n",
       "    <tr>\n",
       "      <th>4</th>\n",
       "      <td>GUARAREMA</td>\n",
       "      <td>SALVADOR DA AMBULÂNCIA</td>\n",
       "      <td>PSDB</td>\n",
       "      <td>MASCULINO</td>\n",
       "      <td>ENSINO FUNDAMENTAL COMPLETO</td>\n",
       "    </tr>\n",
       "  </tbody>\n",
       "</table>\n",
       "</div>"
      ],
      "text/plain": [
       "             NM_UE       NM_URNA_CANDIDATO     SG_PARTIDO  DS_GENERO  \\\n",
       "0   ARTUR NOGUEIRA            OSMAR BAIANO            PTB  MASCULINO   \n",
       "1              POÁ                    BIRO  SOLIDARIEDADE  MASCULINO   \n",
       "2  SANTA FÉ DO SUL         CRIS LENHAVERDE            PSL   FEMININO   \n",
       "3          BÁLSAMO           CECILIA TIENE            MDB   FEMININO   \n",
       "4        GUARAREMA  SALVADOR DA AMBULÂNCIA           PSDB  MASCULINO   \n",
       "\n",
       "               DS_GRAU_INSTRUCAO  \n",
       "0  ENSINO FUNDAMENTAL INCOMPLETO  \n",
       "1              SUPERIOR COMPLETO  \n",
       "2          ENSINO MÉDIO COMPLETO  \n",
       "3  ENSINO FUNDAMENTAL INCOMPLETO  \n",
       "4    ENSINO FUNDAMENTAL COMPLETO  "
      ]
     },
     "execution_count": 37,
     "metadata": {},
     "output_type": "execute_result"
    }
   ],
   "source": [
    "vEleicoesSelecionado.head()"
   ]
  },
  {
   "cell_type": "code",
   "execution_count": 66,
   "metadata": {},
   "outputs": [],
   "source": [
    "colunaDef = vEleicoesSelecionado['DS_GENERO']"
   ]
  },
  {
   "cell_type": "code",
   "execution_count": 67,
   "metadata": {},
   "outputs": [
    {
     "data": {
      "text/plain": [
       "0        MASCULINO\n",
       "1        MASCULINO\n",
       "2         FEMININO\n",
       "3         FEMININO\n",
       "4        MASCULINO\n",
       "           ...    \n",
       "93692    MASCULINO\n",
       "93693     FEMININO\n",
       "93694    MASCULINO\n",
       "93695     FEMININO\n",
       "93696    MASCULINO\n",
       "Name: DS_GENERO, Length: 93697, dtype: object"
      ]
     },
     "execution_count": 67,
     "metadata": {},
     "output_type": "execute_result"
    }
   ],
   "source": [
    "colunaDef"
   ]
  },
  {
   "cell_type": "code",
   "execution_count": 68,
   "metadata": {},
   "outputs": [
    {
     "data": {
      "text/plain": [
       "FEMININO     31439\n",
       "MASCULINO    62258\n",
       "Name: DS_GENERO, dtype: int64"
      ]
     },
     "execution_count": 68,
     "metadata": {},
     "output_type": "execute_result"
    }
   ],
   "source": [
    "colunaDef.value_counts().sort_index()"
   ]
  },
  {
   "cell_type": "code",
   "execution_count": 44,
   "metadata": {},
   "outputs": [],
   "source": [
    "colunaPartido = vEleicoesSelecionado['SG_PARTIDO']"
   ]
  },
  {
   "cell_type": "code",
   "execution_count": 45,
   "metadata": {},
   "outputs": [
    {
     "data": {
      "text/plain": [
       "0                  PTB\n",
       "1        SOLIDARIEDADE\n",
       "2                  PSL\n",
       "3                  MDB\n",
       "4                 PSDB\n",
       "             ...      \n",
       "93692             PROS\n",
       "93693             PSDB\n",
       "93694          PC do B\n",
       "93695               PL\n",
       "93696              PSD\n",
       "Name: SG_PARTIDO, Length: 93697, dtype: object"
      ]
     },
     "execution_count": 45,
     "metadata": {},
     "output_type": "execute_result"
    }
   ],
   "source": [
    "colunaPartido"
   ]
  },
  {
   "cell_type": "code",
   "execution_count": 46,
   "metadata": {},
   "outputs": [
    {
     "data": {
      "text/plain": [
       "AVANTE           2440\n",
       "CIDADANIA        3181\n",
       "DC                584\n",
       "DEM              6662\n",
       "MDB              6467\n",
       "NOVO              129\n",
       "PATRIOTA         3135\n",
       "PC do B           984\n",
       "PCB                 6\n",
       "PCO                56\n",
       "PDT              3195\n",
       "PL               5325\n",
       "PMB               539\n",
       "PMN               635\n",
       "PODE             5220\n",
       "PP               3901\n",
       "PROS             1241\n",
       "PRTB             1977\n",
       "PSB              3577\n",
       "PSC              2059\n",
       "PSD              5957\n",
       "PSDB             8649\n",
       "PSL              4326\n",
       "PSOL              949\n",
       "PSTU               59\n",
       "PT               3185\n",
       "PTB              5678\n",
       "PTC              1023\n",
       "PV               2912\n",
       "REDE              790\n",
       "REPUBLICANOS     5661\n",
       "SOLIDARIEDADE    3185\n",
       "UP                 10\n",
       "Name: SG_PARTIDO, dtype: int64"
      ]
     },
     "execution_count": 46,
     "metadata": {},
     "output_type": "execute_result"
    }
   ],
   "source": [
    "colunaPartido.value_counts().sort_index()"
   ]
  },
  {
   "cell_type": "code",
   "execution_count": 47,
   "metadata": {},
   "outputs": [],
   "source": [
    "colunaEnsino = vEleicoesSelecionado['DS_GRAU_INSTRUCAO']"
   ]
  },
  {
   "cell_type": "code",
   "execution_count": 48,
   "metadata": {},
   "outputs": [
    {
     "data": {
      "text/plain": [
       "0        ENSINO FUNDAMENTAL INCOMPLETO\n",
       "1                    SUPERIOR COMPLETO\n",
       "2                ENSINO MÉDIO COMPLETO\n",
       "3        ENSINO FUNDAMENTAL INCOMPLETO\n",
       "4          ENSINO FUNDAMENTAL COMPLETO\n",
       "                     ...              \n",
       "93692                SUPERIOR COMPLETO\n",
       "93693                SUPERIOR COMPLETO\n",
       "93694                SUPERIOR COMPLETO\n",
       "93695                SUPERIOR COMPLETO\n",
       "93696                SUPERIOR COMPLETO\n",
       "Name: DS_GRAU_INSTRUCAO, Length: 93697, dtype: object"
      ]
     },
     "execution_count": 48,
     "metadata": {},
     "output_type": "execute_result"
    }
   ],
   "source": [
    "colunaEnsino"
   ]
  },
  {
   "cell_type": "code",
   "execution_count": 49,
   "metadata": {},
   "outputs": [
    {
     "data": {
      "text/plain": [
       "ANALFABETO                           1\n",
       "ENSINO FUNDAMENTAL COMPLETO      11098\n",
       "ENSINO FUNDAMENTAL INCOMPLETO     8171\n",
       "ENSINO MÉDIO COMPLETO            36949\n",
       "ENSINO MÉDIO INCOMPLETO           4139\n",
       "LÊ E ESCREVE                      2315\n",
       "SUPERIOR COMPLETO                26399\n",
       "SUPERIOR INCOMPLETO               4625\n",
       "Name: DS_GRAU_INSTRUCAO, dtype: int64"
      ]
     },
     "execution_count": 49,
     "metadata": {},
     "output_type": "execute_result"
    }
   ],
   "source": [
    "colunaEnsino.value_counts().sort_index()"
   ]
  },
  {
   "cell_type": "code",
   "execution_count": 86,
   "metadata": {
    "scrolled": false
   },
   "outputs": [
    {
     "data": {
      "text/plain": [
       "Text(0, 0.5, 'Cidade')"
      ]
     },
     "execution_count": 86,
     "metadata": {},
     "output_type": "execute_result"
    },
    {
     "data": {
      "image/png": "[encoded data removed]",
      "text/plain": [
       "<Figure size 2160x1080 with 1 Axes>"
      ]
     },
     "metadata": {
      "needs_background": "light"
     },
     "output_type": "display_data"
    }
   ],
   "source": [
    "plt.figure(figsize = (30,15))\n",
    "vEleicoes[\"SG_PARTIDO\"].hist(bins = 30, ec = \"k\", alpha = .5, color = \"red\")\n",
    "plt.suptitle('Partido dos Candidatos do Estado de SP',  \n",
    "             ha = 'center', \n",
    "             fontsize = 50, \n",
    "             weight = 'extra bold')\n",
    "\n",
    "plt.xlabel(\"Quantidade de Candidatos\")\n",
    "plt.ylabel(\"Cidade\")"
   ]
  },
  {
   "cell_type": "code",
   "execution_count": 84,
   "metadata": {},
   "outputs": [
    {
     "data": {
      "text/plain": [
       "Text(0, 0.5, 'Grau de Escolaridade')"
      ]
     },
     "execution_count": 84,
     "metadata": {},
     "output_type": "execute_result"
    },
    {
     "data": {
      "image/png": "[encoded data removed]",
      "text/plain": [
       "<Figure size 1800x1080 with 1 Axes>"
      ]
     },
     "metadata": {
      "needs_background": "light"
     },
     "output_type": "display_data"
    }
   ],
   "source": [
    "plt.figure(figsize = (25,15))\n",
    "vEleicoes[\"DS_GRAU_INSTRUCAO\"].hist(bins = 15, ec = \"k\", alpha = .6, color = \"red\")\n",
    "plt.suptitle('Grau de Escolaridade dos Candidatos',  \n",
    "             ha = 'center', \n",
    "             fontsize = 50, \n",
    "             weight = 'extra bold')\n",
    "\n",
    "plt.xlabel(\"Escolaridades\")\n",
    "plt.ylabel(\"Grau de Escolaridade\")"
   ]
  },
  {
   "cell_type": "code",
   "execution_count": 85,
   "metadata": {},
   "outputs": [
    {
     "data": {
      "text/plain": [
       "Text(0, 0.5, 'Genero dos Candidados')"
      ]
     },
     "execution_count": 85,
     "metadata": {},
     "output_type": "execute_result"
    },
    {
     "data": {
      "image/png": "[encoded data removed]",
      "text/plain": [
       "<Figure size 1080x720 with 1 Axes>"
      ]
     },
     "metadata": {
      "needs_background": "light"
     },
     "output_type": "display_data"
    }
   ],
   "source": [
    "plt.figure(figsize = (15,10))\n",
    "vEleicoes[\"DS_GENERO\"].hist(bins = 5, ec = \"k\", alpha = .6, color = \"red\")\n",
    "plt.suptitle('Grau de Genero dos Candidatos',  \n",
    "             ha = 'center', \n",
    "             fontsize = 50, \n",
    "             weight = 'extra bold')\n",
    "\n",
    "plt.xlabel(\"Quantidade de Generos\")\n",
    "plt.ylabel(\"Genero dos Candidados\")"
   ]
  },
  {
   "cell_type": "code",
   "execution_count": null,
   "metadata": {},
   "outputs": [],
   "source": []
  }
 ],
 "metadata": {
  "kernelspec": {
   "display_name": "Python 3",
   "language": "python",
   "name": "python3"
  },
  "language_info": {
   "codemirror_mode": {
    "name": "ipython",
    "version": 3
   },
   "file_extension": ".py",
   "mimetype": "text/x-python",
   "name": "python",
   "nbconvert_exporter": "python",
   "pygments_lexer": "ipython3",
   "version": "3.9.1"
  }
 },
 "nbformat": 4,
 "nbformat_minor": 4
}
